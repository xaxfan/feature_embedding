{
 "cells": [
  {
   "cell_type": "markdown",
   "metadata": {},
   "source": [
    "### 研究动力"
   ]
  },
  {
   "cell_type": "markdown",
   "metadata": {},
   "source": [
    "1、新增了许多用户行为流稀疏特征，共276维，希望能通过embedding将其抽象成dense的特征，更进一步的话，希望可解释\n",
    "\n",
    "2、因为模型训练的要求，需要dump线上每个商品的全部特征，考虑性能的因素，将稀疏特征压缩是很有必要的"
   ]
  },
  {
   "cell_type": "markdown",
   "metadata": {},
   "source": [
    "### 举例"
   ]
  },
  {
   "cell_type": "markdown",
   "metadata": {},
   "source": [
    "如下图所示,原始稀疏特征是:\n",
    "\n",
    "``` c++\n",
    "allcid_brand_top_behav_type     // 若nan的话，赋值为-1\n",
    "allcid_brand_cnt  \n",
    "allcid_brand_type1_cnt\n",
    "allcid_brand_type0_cnt\n",
    "allcid_brand_prob            //其实最原始的应该将allcid_brand_prob替换成sum,但是目前数据就是如此，除非改线上代码，重新dump\n",
    "allcid_brand_top_behav_type_time_diff   // 若为nan的话，赋值为时间窗口的最大值,比如时间窗口是3天，那么就赋值为3*24*60*60\n",
    "allcid_brand_last_behav_type_time_diff  // 若为nan的话，赋值为时间窗口的最大值,比如时间窗口是3天，那么就赋值为3*24*60*60\n",
    "```"
   ]
  },
  {
   "cell_type": "markdown",
   "metadata": {},
   "source": [
    "人工通过熵、互信息等统计量含义将这些特征组合后得到的新特征，依旧是稀疏特征"
   ]
  },
  {
   "cell_type": "markdown",
   "metadata": {},
   "source": [
    "![1](https://github.com/yanqili/photos/raw/master/1.PNG)"
   ]
  },
  {
   "cell_type": "markdown",
   "metadata": {},
   "source": [
    "### 阅读相关文献"
   ]
  },
  {
   "cell_type": "markdown",
   "metadata": {},
   "source": []
  }
 ],
 "metadata": {
  "kernelspec": {
   "display_name": "Python 3",
   "language": "python",
   "name": "python3"
  },
  "language_info": {
   "codemirror_mode": {
    "name": "ipython",
    "version": 3
   },
   "file_extension": ".py",
   "mimetype": "text/x-python",
   "name": "python",
   "nbconvert_exporter": "python",
   "pygments_lexer": "ipython3",
   "version": "3.6.4"
  }
 },
 "nbformat": 4,
 "nbformat_minor": 2
}
